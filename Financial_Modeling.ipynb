{
  "nbformat": 4,
  "nbformat_minor": 0,
  "metadata": {
    "colab": {
      "provenance": [],
      "authorship_tag": "ABX9TyOfr/vhP5QdwYpiI4A62S/X",
      "include_colab_link": true
    },
    "kernelspec": {
      "name": "python3",
      "display_name": "Python 3"
    },
    "language_info": {
      "name": "python"
    }
  },
  "cells": [
    {
      "cell_type": "markdown",
      "metadata": {
        "id": "view-in-github",
        "colab_type": "text"
      },
      "source": [
        "<a href=\"https://colab.research.google.com/github/anitaalh/financial_analysis/blob/main/Financial_Modeling.ipynb\" target=\"_parent\"><img src=\"https://colab.research.google.com/assets/colab-badge.svg\" alt=\"Open In Colab\"/></a>"
      ]
    },
    {
      "cell_type": "markdown",
      "source": [
        "#**SIMPLE RETIREMENT PROBLEM**\n",
        "Martha is saving for retirement. She earns USD60,000 per year and is able to save 25% of that. If she invest her savings, earning 5% per year, and she needs USD1,500,000 to retire, how soon can she retire?\n",
        "\n",
        "\n",
        "Model of the Problem:\n",
        "Cash Flows, Savings Rate, Interest Rates --> Model --> FV of CF, time until retirement\n",
        "\n"
      ],
      "metadata": {
        "id": "-YCZJR-C9f0j"
      }
    },
    {
      "cell_type": "code",
      "source": [
        "!pip install numpy\n",
        "!pip install numpy-financial"
      ],
      "metadata": {
        "colab": {
          "base_uri": "https://localhost:8080/"
        },
        "id": "Vn0VRLgYEwQV",
        "outputId": "1c855659-d013-495a-8d10-c19b5a06ebfd"
      },
      "execution_count": 22,
      "outputs": [
        {
          "output_type": "stream",
          "name": "stdout",
          "text": [
            "Requirement already satisfied: numpy in /usr/local/lib/python3.10/dist-packages (1.23.5)\n",
            "Requirement already satisfied: numpy-financial in /usr/local/lib/python3.10/dist-packages (1.0.0)\n",
            "Requirement already satisfied: numpy>=1.15 in /usr/local/lib/python3.10/dist-packages (from numpy-financial) (1.23.5)\n"
          ]
        }
      ]
    },
    {
      "cell_type": "code",
      "execution_count": 38,
      "metadata": {
        "colab": {
          "base_uri": "https://localhost:8080/"
        },
        "id": "DP5XjW819Y1s",
        "outputId": "87cc3982-4997-420d-8998-84d9f491ac67"
      },
      "outputs": [
        {
          "output_type": "stream",
          "name": "stdout",
          "text": [
            "needed 36.7 years to retirement\n"
          ]
        }
      ],
      "source": [
        "import numpy as np\n",
        "import numpy_financial as npf\n",
        "\n",
        "annual_salary = 60000\n",
        "saving_rate = 0.25\n",
        "desired_cash = 1500000\n",
        "investment_rate = 0.05\n",
        "\n",
        "annual_saving = annual_salary*saving_rate\n",
        "\n",
        "#the financial model\n",
        "years_needed = npf.nper(investment_rate, -annual_saving, 0, desired_cash)\n",
        "years_needed = np.round(years_needed, 1)\n",
        "\n",
        "print(\"needed \" + str(years_needed) + \" years to retirement\")"
      ]
    }
  ]
}